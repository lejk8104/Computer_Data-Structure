{
  "nbformat": 4,
  "nbformat_minor": 0,
  "metadata": {
    "colab": {
      "name": "Queue_최종버전_0408__2015225129_이재근_.ipynb",
      "version": "0.3.2",
      "provenance": [],
      "collapsed_sections": []
    },
    "kernelspec": {
      "name": "python3",
      "display_name": "Python 3"
    },
    "accelerator": "TPU"
  },
  "cells": [
    {
      "cell_type": "code",
      "metadata": {
        "id": "heHxftgm0C_D",
        "colab_type": "code",
        "outputId": "2a77523d-659c-4713-ff1c-0494f10d0265",
        "colab": {
          "base_uri": "https://localhost:8080/",
          "height": 270
        }
      },
      "source": [
        "# rear와 front 는 포인터(가르키는 것)\n",
        "# 노드간의 링크의 방향성과 다름\n",
        "# dequeue\n",
        "# front가 사라지면서 이전꺼를 가르키면서 사라짐\n",
        "\n",
        "#rear가 새로 가르키는 얘를 새롭게 들어온 멜론 노드를 가르키고, rear가 앞으로 나만 가르키면 됨?\n",
        "class Node:\n",
        "  \n",
        "  def __init__(self, data):\n",
        "    self.data = data\n",
        "    self.next = None\n",
        "    \n",
        "  def get_data(self):                     #문법상 다음것을 지정하는것이 맞다고 판단하여 코드를 수정했습니다.\n",
        "    return self.data\n",
        "  \n",
        "  def get_next(self):\n",
        "    return self.next\n",
        "  \n",
        "  def set_next(self, next):\n",
        "    self.next = next\n",
        "\n",
        "  \n",
        "class Queue:\n",
        "  def __init__(self):\n",
        "    self.front = None\n",
        "    self.rear = None\n",
        "    self.size = 0\n",
        "  def enqueue(self, data):\n",
        "    new_node = Node(data)\n",
        "    self.size += 1\n",
        "   \n",
        "    if self.front is None:                 #만약 Front 데이터의 값이 비어있다면 => 최초 입력데이터(new node)\n",
        "      self.front = new_node\n",
        "#      print(new_node.data, \"f\")           Test data F\n",
        "    else:\n",
        "        self.rear.set_next(new_node)       #만약 데이터가 이미 존재한다면. 다음 Rear데이터를 지정하도록\n",
        "    self.rear = new_node\n",
        "#    print(self.rear.data, \"r\")            Test data R\n",
        "    \n",
        "  def print_queue(self):\n",
        "    print(\">> current list\")\n",
        "    node = self.front\n",
        "#    print(self.front.data ,\"Test print\")  Test data front가 제대로 출력되는지 확인\n",
        "    while node is not None:\n",
        "      print(node.get_data())\n",
        "      node = node.get_next()\n",
        "    print(\">>>>>>>>>>>>>>>>\")\n",
        "  \n",
        "  def dequeue(self):\n",
        "    node = self.front\n",
        "#     print(node.data, 1)                   Test data 현재값\n",
        "#     print(node.next.data, 2)              Test data 다음을 지칭하는 값\n",
        "#      print(self.size, \"size?\")            Test Size가 제대로 감소되는지?\n",
        "    if node is not None:\n",
        "      self.front = node.get_next()          #데이터가 Dequeue 된다면 그다음 데이터를 지정하도록\n",
        "      self.size -= 1\n",
        "    else:                                    #만약 노드가 비어있다면 (size =0)\n",
        "      node = None                            #아무것도 출력하지마세요.\n",
        "    return node    \n",
        "  \n",
        "  \n",
        "queue = Queue()\n",
        "queue.enqueue(\"Apple\")\n",
        "queue.enqueue(\"Kiwi\")\n",
        "queue.enqueue(\"Banana\")\n",
        "queue.print_queue()\n",
        "\n",
        "node = queue.dequeue()\n",
        "print(\"Dequeue: \" + node.data)\n",
        "node = queue.dequeue()\n",
        "print(\"Dequeue: \" + node.data)\n",
        "queue.print_queue()\n",
        "queue.enqueue(\"Melon\")\n",
        "queue.print_queue()\n"
      ],
      "execution_count": 0,
      "outputs": [
        {
          "output_type": "stream",
          "text": [
            ">> current list\n",
            "Apple\n",
            "Kiwi\n",
            "Banana\n",
            ">>>>>>>>>>>>>>>>\n",
            "Dequeue: Apple\n",
            "Dequeue: Kiwi\n",
            ">> current list\n",
            "Banana\n",
            ">>>>>>>>>>>>>>>>\n",
            ">> current list\n",
            "Banana\n",
            "Melon\n",
            ">>>>>>>>>>>>>>>>\n"
          ],
          "name": "stdout"
        }
      ]
    },
    {
      "cell_type": "code",
      "metadata": {
        "id": "tx_6rUW_EAsn",
        "colab_type": "code",
        "colab": {}
      },
      "source": [
        ""
      ],
      "execution_count": 0,
      "outputs": []
    },
    {
      "cell_type": "code",
      "metadata": {
        "id": "J_OcUIOZymR9",
        "colab_type": "code",
        "outputId": "8b69de48-9ff7-40d7-ff43-8ee503909dd0",
        "colab": {
          "base_uri": "https://localhost:8080/",
          "height": 270
        }
      },
      "source": [
        "# 오픈소스를 이용한 Queue code\n",
        "# 굳이 간단한 코드를 가지고 교수님이 직접 구현하시길 원했던 이유\n",
        "# 파이썬내 모듈로써 사용가능한 Queue 함수에 대해서\n",
        "# 파이썬으로 직접 구현해봄으로써 파이썬 구현능력도 늘리고, 논리구조를 이해하기 위해서라고 생각합니다.\n",
        "\n",
        "class Queue:\n",
        "  def __init__(self):\n",
        "    self.Q = []\n",
        "    \n",
        "  def enqueue(self, data):\n",
        "    self.Q.append(data)\n",
        "  \n",
        "  def dequeue(self):\n",
        "    return self.Q.pop(0)                  #list의 0번째 요소(front data)를 보내준다\n",
        "    \n",
        "    \n",
        "  def print_queue(self):\n",
        "    print(\">> current list\")\n",
        "    for index, item in enumerate(self.Q):  #파이썬 내장함수 range와 비슷한개념 리스트에 대해 인덱스와 다음값을 출력값으로보냄\n",
        "      print(\"No.\", index+1, item)\n",
        "      \n",
        "queue = Queue()\n",
        "queue.enqueue(\"Apple\")\n",
        "queue.enqueue(\"Kiwi\")\n",
        "queue.enqueue(\"Banana\")\n",
        "queue.print_queue()\n",
        "\n",
        "node = queue.dequeue()\n",
        "print(\"Dequeue: \" + node)\n",
        "queue.print_queue()\n",
        "node = queue.dequeue()\n",
        "print(\"Dequeue: \" + node)\n",
        "queue.print_queue()\n",
        "\n",
        "queue.enqueue(\"Melon\")\n",
        "queue.print_queue()"
      ],
      "execution_count": 0,
      "outputs": [
        {
          "output_type": "stream",
          "text": [
            ">> current list\n",
            "No. 1 Apple\n",
            "No. 2 Kiwi\n",
            "No. 3 Banana\n",
            "Dequeue: Apple\n",
            ">> current list\n",
            "No. 1 Kiwi\n",
            "No. 2 Banana\n",
            "Dequeue: Kiwi\n",
            ">> current list\n",
            "No. 1 Banana\n",
            ">> current list\n",
            "No. 1 Banana\n",
            "No. 2 Melon\n"
          ],
          "name": "stdout"
        }
      ]
    }
  ]
}