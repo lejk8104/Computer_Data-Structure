{
  "nbformat": 4,
  "nbformat_minor": 0,
  "metadata": {
    "colab": {
      "name": "Basic_sort.ipynb",
      "provenance": [],
      "collapsed_sections": []
    },
    "kernelspec": {
      "name": "python3",
      "display_name": "Python 3"
    }
  },
  "cells": [
    {
      "cell_type": "code",
      "metadata": {
        "id": "d3_B6MVW9DL5",
        "colab_type": "code",
        "colab": {}
      },
      "source": [
        "def selection_sort(array):\n",
        "  for i in range(0, len(array)):\n",
        "    min = i\n",
        "    # print(\"min, i\",array[min],array[i])\n",
        "    for j in range(i, len(array)):\n",
        "      if array[min] > array[j]:\n",
        "        min = j\n",
        "        # print(\"min,j impct j\",array[min],array[j])\n",
        "    array[i],array[min] = array[min],array[i]\n",
        "  \n",
        "  return array"
      ],
      "execution_count": 0,
      "outputs": []
    },
    {
      "cell_type": "code",
      "metadata": {
        "id": "2MIshbnC9r9w",
        "colab_type": "code",
        "colab": {}
      },
      "source": [
        "def bubble_sort(array):\n",
        "  for i in range(0,len(array)-1):\n",
        "    for j in range(0,len(array)-i-1):\n",
        "      if array[j]>array[j+1]:\n",
        "        array[j],array[j+1]=array[j+1],array[j]\n",
        "  \n",
        "  return array"
      ],
      "execution_count": 0,
      "outputs": []
    },
    {
      "cell_type": "code",
      "metadata": {
        "id": "qi0Sf_Nb9sHP",
        "colab_type": "code",
        "colab": {}
      },
      "source": [
        "def insertion_sort(array):\n",
        "  for i in range(1, len(array)):\n",
        "    newMember = array[i]\n",
        "    # print(\"newmember\",newMember)\n",
        "    tailindex = i-1\n",
        "    # print(\"tailindex\",tailindex,array[tailindex])\n",
        "    # print('current',array)\n",
        "    while tailindex >= 0 and newMember < array[tailindex]:\n",
        "      # print(\"check while\", tailindex, newMember, array[tailindex])\n",
        "      array[tailindex+1] = array[tailindex]\n",
        "      tailindex = tailindex-1\n",
        "\n",
        "    array[tailindex+1] = newMember\n",
        "  \n",
        "  return array"
      ],
      "execution_count": 0,
      "outputs": []
    },
    {
      "cell_type": "code",
      "metadata": {
        "id": "3YnVfmgn92QQ",
        "colab_type": "code",
        "colab": {}
      },
      "source": [
        "unordered = [64, 25, 12, 22, 11]"
      ],
      "execution_count": 0,
      "outputs": []
    },
    {
      "cell_type": "code",
      "metadata": {
        "id": "LcE8tQTp9MZe",
        "colab_type": "code",
        "outputId": "a2ee946c-2070-40a2-ee90-3b6c6175a763",
        "colab": {
          "base_uri": "https://localhost:8080/",
          "height": 53
        }
      },
      "source": [
        "ordered = selection_sort(unordered.copy())\n",
        "print(\"[selection sort result]\")\n",
        "ordered"
      ],
      "execution_count": 5,
      "outputs": [
        {
          "output_type": "stream",
          "text": [
            "[selection sort result]\n"
          ],
          "name": "stdout"
        },
        {
          "output_type": "execute_result",
          "data": {
            "text/plain": [
              "[11, 12, 22, 25, 64]"
            ]
          },
          "metadata": {
            "tags": []
          },
          "execution_count": 5
        }
      ]
    },
    {
      "cell_type": "code",
      "metadata": {
        "id": "ZpkSBY3G95Q4",
        "colab_type": "code",
        "outputId": "1d8b31ff-668a-4ab3-a1e5-c66d23f10386",
        "colab": {
          "base_uri": "https://localhost:8080/",
          "height": 53
        }
      },
      "source": [
        "ordered = bubble_sort(unordered.copy())\n",
        "print(\"[bubble sort result]\")\n",
        "ordered"
      ],
      "execution_count": 6,
      "outputs": [
        {
          "output_type": "stream",
          "text": [
            "[bubble sort result]\n"
          ],
          "name": "stdout"
        },
        {
          "output_type": "execute_result",
          "data": {
            "text/plain": [
              "[11, 12, 22, 25, 64]"
            ]
          },
          "metadata": {
            "tags": []
          },
          "execution_count": 6
        }
      ]
    },
    {
      "cell_type": "code",
      "metadata": {
        "id": "7rSnLFay99Zo",
        "colab_type": "code",
        "outputId": "3e320226-6c09-4a4a-8a91-5c5ad8a111ad",
        "colab": {
          "base_uri": "https://localhost:8080/",
          "height": 53
        }
      },
      "source": [
        "ordered = insertion_sort(unordered.copy())\n",
        "print(\"[insertion sort result]\")\n",
        "ordered"
      ],
      "execution_count": 38,
      "outputs": [
        {
          "output_type": "stream",
          "text": [
            "[insertion sort result]\n"
          ],
          "name": "stdout"
        },
        {
          "output_type": "execute_result",
          "data": {
            "text/plain": [
              "[11, 12, 22, 25, 64]"
            ]
          },
          "metadata": {
            "tags": []
          },
          "execution_count": 38
        }
      ]
    }
  ]
}