{
  "nbformat": 4,
  "nbformat_minor": 0,
  "metadata": {
    "colab": {
      "name": "Graph_최초버전.ipynb",
      "version": "0.3.2",
      "provenance": [],
      "collapsed_sections": []
    },
    "kernelspec": {
      "name": "python3",
      "display_name": "Python 3"
    },
    "accelerator": "TPU"
  },
  "cells": [
    {
      "cell_type": "code",
      "metadata": {
        "id": "7Dw6qn-REh_0",
        "colab_type": "code",
        "outputId": "595bb667-e6e4-4603-8c9b-7f7e38082e7b",
        "colab": {
          "base_uri": "https://localhost:8080/",
          "height": 222
        }
      },
      "source": [
        "class Node:          # 재귀함수 안써. Queue와 stack이 안써도 됨\n",
        "  def __init__(self, data):\n",
        "    self.data = data\n",
        "    self.neighbors = []\n",
        "    self.visited = False      #Flag\n",
        "    \n",
        "  def add_neighbor(self, neighbor):\n",
        "    self.neighbors.append(neighbor)\n",
        "\n",
        "  def set_visited(self, visited): #Flag를 올리거나 내리거나 설정하는 것\n",
        "    self.visited = visited\n",
        "\n",
        "  def get_data(self):\n",
        "    return self.data           \n",
        "\n",
        "  def get_neighbors(self):       #이웃 내놔봐 이때 리스트로 나옴\n",
        "    return self.neighbors\n",
        "\n",
        "  def get_visited(self):\n",
        "    return self.visited            #방문할 수 있을까?\n",
        "\n",
        "\n",
        "class Graph:\n",
        "  def __init__(self):              #이웃들은 노드가 갖고있기 때문에 (트리랑 같다? 자식들을 부모가 갖고있어서)\n",
        "    self.nodes = []\n",
        "\n",
        "  def add_node(self, node):\n",
        "    self.nodes.append(node)\n",
        "    \n",
        "#   def bfs(self):\n",
        "#     bfs = []\n",
        "#     root = Node('A').self data\n",
        "#     if root.get_neighbors() is False:\n",
        "#       if root.get_visited() is None:\n",
        "#         current = root.get_neighbors\n",
        "#         bfs.append(current)\n",
        "#         current.set_visited is True\n",
        "#       else: \n",
        "#         current.get_neighbors\n",
        "#     else: return nodes\n",
        "\n",
        "# <아직 미완성 추후에 수정필요>\n",
        "    def bfs(self):\n",
        "      bfs = []\n",
        "      current = node_A\n",
        "      bfs.append(node_A)\n",
        "      node_A.set_visited(True)\n",
        "      print(bfs)\n",
        "      before = current\n",
        "      while current.get_neighbors() is None:\n",
        "        current = current.get_neighbors()\n",
        "        bfs.append(current)\n",
        "        if current.get_visited() == False: \n",
        "          print(bfs)\n",
        "          before = current\n",
        "        else: \n",
        "          before = current\n",
        "          current = current.pop(0)\n",
        "          \n",
        "graph = Graph()\n",
        "\n",
        "node_A = Node('A')\n",
        "graph.add_node(node_A)\n",
        "node_B = Node('B')\n",
        "graph.add_node(node_B)\n",
        "node_C = Node('C')\n",
        "graph.add_node(node_C)\n",
        "node_D = Node('D')\n",
        "graph.add_node(node_D)\n",
        "node_E = Node('E')\n",
        "graph.add_node(node_E)\n",
        "node_F = Node('F')\n",
        "graph.add_node(node_F)\n",
        "node_G = Node('G')\n",
        "graph.add_node(node_G)\n",
        "node_H = Node('H')\n",
        "graph.add_node(node_H)\n",
        "node_S = Node('S')\n",
        "graph.add_node(node_S)\n",
        "\n",
        "node_A.add_neighbor(node_B)\n",
        "node_A.add_neighbor(node_S)\n",
        "\n",
        "node_B.add_neighbor(node_A)                 # 같은 정보를 두번한 이유 : 그래프는 어떤 노드에서도 시작할 수 있다.\n",
        "\n",
        "node_C.add_neighbor(node_D)\n",
        "node_C.add_neighbor(node_E)\n",
        "node_C.add_neighbor(node_F)\n",
        "node_C.add_neighbor(node_G)\n",
        "node_C.add_neighbor(node_S)\n",
        "\n",
        "node_D.add_neighbor(node_C)\n",
        "\n",
        "node_E.add_neighbor(node_C)\n",
        "node_E.add_neighbor(node_H)\n",
        "\n",
        "node_F.add_neighbor(node_C)\n",
        "node_F.add_neighbor(node_G)\n",
        "\n",
        "node_G.add_neighbor(node_F)\n",
        "node_G.add_neighbor(node_S)\n",
        "\n",
        "node_H.add_neighbor(node_E)\n",
        "node_H.add_neighbor(node_G)\n",
        "\n",
        "node_S.add_neighbor(node_A)\n",
        "node_S.add_neighbor(node_C)\n",
        "node_S.add_neighbor(node_G)\n",
        "\n",
        "print(\"[BFS result]\")\n",
        "graph.bfs()"
      ],
      "execution_count": 5,
      "outputs": [
        {
          "output_type": "stream",
          "text": [
            "[BFS result]\n"
          ],
          "name": "stdout"
        },
        {
          "output_type": "error",
          "ename": "AttributeError",
          "evalue": "ignored",
          "traceback": [
            "\u001b[0;31m---------------------------------------------------------------------------\u001b[0m",
            "\u001b[0;31mAttributeError\u001b[0m                            Traceback (most recent call last)",
            "\u001b[0;32m<ipython-input-5-452d899f0f94>\u001b[0m in \u001b[0;36m<module>\u001b[0;34m()\u001b[0m\n\u001b[1;32m    109\u001b[0m \u001b[0;34m\u001b[0m\u001b[0m\n\u001b[1;32m    110\u001b[0m \u001b[0mprint\u001b[0m\u001b[0;34m(\u001b[0m\u001b[0;34m\"[BFS result]\"\u001b[0m\u001b[0;34m)\u001b[0m\u001b[0;34m\u001b[0m\u001b[0;34m\u001b[0m\u001b[0m\n\u001b[0;32m--> 111\u001b[0;31m \u001b[0mgraph\u001b[0m\u001b[0;34m.\u001b[0m\u001b[0mbfs\u001b[0m\u001b[0;34m(\u001b[0m\u001b[0;34m)\u001b[0m\u001b[0;34m\u001b[0m\u001b[0;34m\u001b[0m\u001b[0m\n\u001b[0m",
            "\u001b[0;31mAttributeError\u001b[0m: 'Graph' object has no attribute 'bfs'"
          ]
        }
      ]
    },
    {
      "cell_type": "code",
      "metadata": {
        "id": "qYxuXNLFJeuk",
        "colab_type": "code",
        "colab": {}
      },
      "source": [
        "\n"
      ],
      "execution_count": 0,
      "outputs": []
    }
  ]
}