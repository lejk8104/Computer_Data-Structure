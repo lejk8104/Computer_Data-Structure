{
  "nbformat": 4,
  "nbformat_minor": 0,
  "metadata": {
    "colab": {
      "name": "컴퓨터_데이터구조_개인공부01_0325",
      "version": "0.3.2",
      "provenance": [],
      "collapsed_sections": []
    },
    "kernelspec": {
      "name": "python3",
      "display_name": "Python 3"
    },
    "accelerator": "TPU"
  },
  "cells": [
    {
      "cell_type": "code",
      "metadata": {
        "id": "2qHStZ8r8Yy6",
        "colab_type": "code",
        "outputId": "de19b453-a4c2-4776-fa53-41bdc37eaa62",
        "colab": {
          "base_uri": "https://localhost:8080/",
          "height": 134
        }
      },
      "source": [
        "class User()\n",
        "\n",
        "def User()\n",
        "new name = name\n",
        "__init__(name)\n",
        "get_name()"
      ],
      "execution_count": 0,
      "outputs": [
        {
          "output_type": "error",
          "ename": "SyntaxError",
          "evalue": "ignored",
          "traceback": [
            "\u001b[0;36m  File \u001b[0;32m\"<ipython-input-1-87978d2ee6a8>\"\u001b[0;36m, line \u001b[0;32m1\u001b[0m\n\u001b[0;31m    class User()\u001b[0m\n\u001b[0m                ^\u001b[0m\n\u001b[0;31mSyntaxError\u001b[0m\u001b[0;31m:\u001b[0m invalid syntax\n"
          ]
        }
      ]
    },
    {
      "cell_type": "code",
      "metadata": {
        "id": "36Evf0iwDkAE",
        "colab_type": "code",
        "outputId": "d71b5a2d-bc2f-478f-9caa-fbf82f9ca3da",
        "colab": {
          "base_uri": "https://localhost:8080/",
          "height": 134
        }
      },
      "source": [
        "# Linked list\n",
        "# Class Node(self,String):\n",
        "  #def __init__(self,fruit):\n",
        "   # node=header.self()\n",
        "    #size +=1\n",
        "  \n",
        "  #def get_fruit(self)\n",
        " # return get_fruit\n",
        "\n",
        "  #def get_next()\n",
        "  #node = self. header\n",
        "  #get_next()\n",
        "  \n",
        "  #def set_next()\n",
        "  \n",
        "# 답지\n",
        "Class Node: # Node 클래스 선언\n",
        "  \n",
        "  def __init__(self, fruit): #init 선언 변수 = self, fruit\n",
        "    self.fruit = fruit  # 초기값 지정\n",
        "    self.next = None  # 초기에는 아무도 지정하고 있지 않다\n",
        "    \n",
        "  def get_fruit(self):\n",
        "    reuturn self.fruit\n",
        "    \n",
        "  def get_next(self):\n",
        "    return self.next\n",
        "  \n",
        "  def set_next(self, next):\n",
        "    self.next = next\n",
        "    \n",
        "\n",
        "    Class Simply Linked list:\n",
        "      \n",
        "      def__init__(self)   #__init__ :인스턴스 생성초기 변수를 지정하도록 도와줌\n",
        "      self.header = None\n",
        "      self.size = 0\n",
        "      \n",
        "      \n",
        "      def append_node():\n",
        "        node = self.header\n",
        "        self.size += 1\n",
        "        if(self.header is None):\n",
        "          node = get_next()\n",
        "        else:\n",
        "          print(\"the end\")"
      ],
      "execution_count": 0,
      "outputs": [
        {
          "output_type": "error",
          "ename": "SyntaxError",
          "evalue": "ignored",
          "traceback": [
            "\u001b[0;36m  File \u001b[0;32m\"<ipython-input-5-5de10e59157f>\"\u001b[0;36m, line \u001b[0;32m1\u001b[0m\n\u001b[0;31m    Class Node: # Node 클래스 선언\u001b[0m\n\u001b[0m             ^\u001b[0m\n\u001b[0;31mSyntaxError\u001b[0m\u001b[0;31m:\u001b[0m invalid syntax\n"
          ]
        }
      ]
    },
    {
      "cell_type": "code",
      "metadata": {
        "id": "Prj3RnJ4ISWS",
        "colab_type": "code",
        "colab": {}
      },
      "source": [
        ""
      ],
      "execution_count": 0,
      "outputs": []
    },
    {
      "cell_type": "code",
      "metadata": {
        "id": "yPDqkPjK96Lp",
        "colab_type": "code",
        "outputId": "4539e682-c9ff-44c0-b7a1-25536f78dc9c",
        "colab": {
          "base_uri": "https://localhost:8080/",
          "height": 134
        }
      },
      "source": [
        "# 계속 해보는거 2\n",
        "  class Node: # Node 클래스 선언\n",
        "  \n",
        "    def __init__(self, fruit): #init 선언 변수 = self, fruit\n",
        "      self.fruit = fruit  # 초기값 지정\n",
        "      self.next = None  # 초기에는 아무도 지정하고 있지 않다\n",
        "    \n",
        "    def get_fruit(self):\n",
        "      return self.fruit\n",
        "    \n",
        "    def get_next(self):\n",
        "      return self.next\n",
        "  \n",
        "    def set_next(self, next):\n",
        "      self.next = next\n",
        "    \n",
        "\n",
        "  class Simply_Linked_list:\n",
        "      \n",
        "    def__init__(self)   #__init__ :인스턴스 생성초기 변수를 지정하도록 도와줌\n",
        "      self.header = None\n",
        "      self.size = 0\n",
        "      \n",
        "      \n",
        "    def append_node():\n",
        "        node = self.header  #최초 노드를 Header로 지정\n",
        "        self.size += 1      #추가시 사이즈 증가\n",
        "        if(self.header is None):   #Header가 비웠으면 node는 그다음것\n",
        "          node = get_next()\n",
        "        else:\n",
        "          print(\"the end\")"
      ],
      "execution_count": 0,
      "outputs": [
        {
          "output_type": "error",
          "ename": "IndentationError",
          "evalue": "ignored",
          "traceback": [
            "\u001b[0;36m  File \u001b[0;32m\"<ipython-input-12-927ffd9b4298>\"\u001b[0;36m, line \u001b[0;32m20\u001b[0m\n\u001b[0;31m    self.header = None\u001b[0m\n\u001b[0m    ^\u001b[0m\n\u001b[0;31mIndentationError\u001b[0m\u001b[0;31m:\u001b[0m unexpected indent\n"
          ]
        }
      ]
    },
    {
      "cell_type": "code",
      "metadata": {
        "id": "ISmma8pZJr61",
        "colab_type": "code",
        "outputId": "eeb9c0f0-447a-4548-fd15-e1a56892bfc2",
        "colab": {
          "base_uri": "https://localhost:8080/",
          "height": 134
        }
      },
      "source": [
        "# 계속 해보는거 3\n",
        "  class Node: # Node 클래스 선언\n",
        "  \n",
        "    def __init__(self, fruit): #init 선언 변수 = self, fruit\n",
        "      self.fruit = fruit  # 초기값 지정\n",
        "      self.next = None  # 초기에는 아무도 지정하고 있지 않다\n",
        "    \n",
        "    def get_fruit(self):\n",
        "      return self.fruit\n",
        "    \n",
        "    def get_next(self):\n",
        "      return self.next\n",
        "  \n",
        "    def set_next(self, next):\n",
        "      self.next = next\n",
        "    \n",
        "\n",
        "  class Simply_Linked_list:\n",
        "      \n",
        "    def__init__(self)   #__init__ :인스턴스 생성초기 변수를 지정하도록 도와줌\n",
        "      self.header = None\n",
        "      self.size = 0\n",
        "      \n",
        "    def append(self, fruit):\n",
        "      new_node - Node(fruit)\n",
        "      self,size += 1\n",
        "      if self.header is Nonde:\n",
        "        self.header = new_node\n",
        "      else:\n",
        "        node = self.header\n",
        "        while node.get_next() is not None:\n",
        "            node = node.get_(next)\n",
        "        node.set_next(new_node)\n",
        "        \n",
        "      def print_list(self):\n",
        "        print(\">> current list\")\n",
        "        node = self.header\n",
        "        while node is not None\n",
        "          print(node.get_fruit())\n",
        "          node = node.get.next()\n",
        "          pirnt('\"---------\")\n",
        "\n",
        "sll = Simply_linked_list()\n",
        "sll.append(\"Apple\")\n",
        "sil.append(\"Kiwi\")\n",
        "sil.append(\"Banana\")\n",
        "sill.print_list()"
      ],
      "execution_count": 0,
      "outputs": [
        {
          "output_type": "error",
          "ename": "IndentationError",
          "evalue": "ignored",
          "traceback": [
            "\u001b[0;36m  File \u001b[0;32m\"<ipython-input-13-4755a94e999c>\"\u001b[0;36m, line \u001b[0;32m20\u001b[0m\n\u001b[0;31m    self.header = None\u001b[0m\n\u001b[0m    ^\u001b[0m\n\u001b[0;31mIndentationError\u001b[0m\u001b[0;31m:\u001b[0m unexpected indent\n"
          ]
        }
      ]
    },
    {
      "cell_type": "code",
      "metadata": {
        "id": "GACoe35YLtJg",
        "colab_type": "code",
        "colab": {}
      },
      "source": [
        "# 계속 해보는거 3\n",
        "  class Node: # Node 클래스 선언\n",
        "  \n",
        "    def __init__(self, fruit): #init 선언 변수 = self, fruit\n",
        "      self.fruit = fruit  # 초기값 지정\n",
        "      self.next = None  # 초기에는 아무도 지정하고 있지 않다\n",
        "    \n",
        "    def get_fruit(self):\n",
        "      return self.fruit\n",
        "    \n",
        "    def get_next(self):\n",
        "      return self.next\n",
        "  \n",
        "    def set_next(self, next):\n",
        "      self.next = next\n",
        "    \n",
        "\n",
        "  class Simply_Linked_list:\n",
        "      \n",
        "    def__init__(self)   #__init__ :인스턴스 생성초기 변수를 지정하도록 도와줌\n",
        "      self.header = None\n",
        "      self.tail = None\n",
        "      self.size = 0\n",
        "      \n",
        "    def append(self, fruit):\n",
        "      new_node = Node(fruit)\n",
        "      self,size += 1\n",
        "      if self.Header is None:\n",
        "        self.header = new_node\n",
        "      else:\n",
        "          self.tail.set_next(new_node)\n",
        "          self.tail = new_node\n",
        "        \n",
        "      def print_list(self):\n",
        "        print(\">> current list\")\n",
        "        node = self.header\n",
        "        while node is not None\n",
        "          print(node.get_fruit())\n",
        "          node = node.get.next()\n",
        "          pirnt('\"---------\")\n",
        "\n",
        "sll = Simply_linked_list()\n",
        "sll.append(\"Apple\")\n",
        "sil.append(\"Kiwi\")\n",
        "sil.append(\"Banana\")\n",
        "sill.print_list()"
      ],
      "execution_count": 0,
      "outputs": []
    },
    {
      "cell_type": "code",
      "metadata": {
        "id": "y5pPi6LYI_C8",
        "colab_type": "code",
        "colab": {}
      },
      "source": [
        ""
      ],
      "execution_count": 0,
      "outputs": []
    }
  ]
}